{
 "cells": [
  {
   "cell_type": "code",
   "execution_count": 2,
   "id": "ab75131c",
   "metadata": {
    "colab": {
     "base_uri": "https://localhost:8080/"
    },
    "id": "ab75131c",
    "outputId": "c692d732-4243-460f-f05e-71e2f5e6bf65"
   },
   "outputs": [
    {
     "name": "stdout",
     "output_type": "stream",
     "text": [
      "Requirement already satisfied: efficient-apriori in c:\\users\\prashant  mishra\\appdata\\local\\programs\\python\\python311\\lib\\site-packages (2.0.3)\n"
     ]
    }
   ],
   "source": [
    "Run following algorithms on 2 real datasets and use appropriate evaluation measures to compute\n",
    "correctness of obtained patterns:\n",
    "Q4. Run Apriori algorithm to find frequent itemsets and association rules\n",
    "1.1 Use minimum support as 50% and minimum confidence as 75%\n",
    "1.2 Use minimum support as 60% and minimum confidence as 60 %"
   ]
  },
  {
   "cell_type": "code",
   "execution_count": null,
   "id": "f4f04a2b",
   "metadata": {},
   "outputs": [],
   "source": [
    "import pandas as pd\n",
    "import numpy as np\n",
    "import matplotlib.pyplot as plt\n",
    "!pip install efficient-apriori"
   ]
  },
  {
   "cell_type": "code",
   "execution_count": 3,
   "id": "bed7e908",
   "metadata": {
    "id": "bed7e908"
   },
   "outputs": [],
   "source": [
    "from efficient_apriori import apriori"
   ]
  },
  {
   "cell_type": "code",
   "execution_count": 4,
   "id": "16574414",
   "metadata": {
    "id": "16574414"
   },
   "outputs": [],
   "source": [
    "transc=[\n",
    "    ['Milk','Diaper','Tea'],\n",
    "    ['Milk','Diaper','Tea','Bread','Butter'],\n",
    "    ['Milk','Diaper','Tea'],\n",
    "    ['Milk','Diaper','Bread','Butter'],\n",
    "    ['Milk','Diaper','Bread','Butter','Tea']\n",
    "]"
   ]
  },
  {
   "cell_type": "code",
   "execution_count": 5,
   "id": "194304c0",
   "metadata": {
    "colab": {
     "base_uri": "https://localhost:8080/"
    },
    "id": "194304c0",
    "outputId": "7d70df34-4a76-452c-ad02-7c3423ae21bb"
   },
   "outputs": [
    {
     "data": {
      "text/plain": [
       "[['Milk', 'Diaper', 'Tea'],\n",
       " ['Milk', 'Diaper', 'Tea', 'Bread', 'Butter'],\n",
       " ['Milk', 'Diaper', 'Tea'],\n",
       " ['Milk', 'Diaper', 'Bread', 'Butter'],\n",
       " ['Milk', 'Diaper', 'Bread', 'Butter', 'Tea']]"
      ]
     },
     "execution_count": 5,
     "metadata": {},
     "output_type": "execute_result"
    }
   ],
   "source": [
    "transc"
   ]
  },
  {
   "cell_type": "code",
   "execution_count": 6,
   "id": "b68f8dd1",
   "metadata": {
    "id": "b68f8dd1"
   },
   "outputs": [],
   "source": [
    "itemset, rules = apriori(transc,min_support=0.5, min_confidence= 0.75)"
   ]
  },
  {
   "cell_type": "code",
   "execution_count": 7,
   "id": "7d32a699",
   "metadata": {
    "colab": {
     "base_uri": "https://localhost:8080/"
    },
    "id": "7d32a699",
    "outputId": "88158f0f-f0e5-4c74-a421-6e51b3ec4c25"
   },
   "outputs": [
    {
     "data": {
      "text/plain": [
       "{1: {('Milk',): 5, ('Diaper',): 5, ('Tea',): 4, ('Bread',): 3, ('Butter',): 3},\n",
       " 2: {('Bread', 'Butter'): 3,\n",
       "  ('Bread', 'Diaper'): 3,\n",
       "  ('Bread', 'Milk'): 3,\n",
       "  ('Butter', 'Diaper'): 3,\n",
       "  ('Butter', 'Milk'): 3,\n",
       "  ('Diaper', 'Milk'): 5,\n",
       "  ('Diaper', 'Tea'): 4,\n",
       "  ('Milk', 'Tea'): 4},\n",
       " 3: {('Bread', 'Butter', 'Diaper'): 3,\n",
       "  ('Bread', 'Butter', 'Milk'): 3,\n",
       "  ('Bread', 'Diaper', 'Milk'): 3,\n",
       "  ('Butter', 'Diaper', 'Milk'): 3,\n",
       "  ('Diaper', 'Milk', 'Tea'): 4},\n",
       " 4: {('Bread', 'Butter', 'Diaper', 'Milk'): 3}}"
      ]
     },
     "execution_count": 7,
     "metadata": {},
     "output_type": "execute_result"
    }
   ],
   "source": [
    "itemset"
   ]
  },
  {
   "cell_type": "code",
   "execution_count": 8,
   "id": "7aecb9cc",
   "metadata": {
    "colab": {
     "base_uri": "https://localhost:8080/"
    },
    "id": "7aecb9cc",
    "outputId": "c456a8b8-35bc-45d5-f289-147fb5b5e68b"
   },
   "outputs": [
    {
     "data": {
      "text/plain": [
       "[{Butter} -> {Bread},\n",
       " {Bread} -> {Butter},\n",
       " {Bread} -> {Diaper},\n",
       " {Bread} -> {Milk},\n",
       " {Butter} -> {Diaper},\n",
       " {Butter} -> {Milk},\n",
       " {Milk} -> {Diaper},\n",
       " {Diaper} -> {Milk},\n",
       " {Tea} -> {Diaper},\n",
       " {Diaper} -> {Tea},\n",
       " {Tea} -> {Milk},\n",
       " {Milk} -> {Tea},\n",
       " {Butter, Diaper} -> {Bread},\n",
       " {Bread, Diaper} -> {Butter},\n",
       " {Bread, Butter} -> {Diaper},\n",
       " {Butter} -> {Bread, Diaper},\n",
       " {Bread} -> {Butter, Diaper},\n",
       " {Butter, Milk} -> {Bread},\n",
       " {Bread, Milk} -> {Butter},\n",
       " {Bread, Butter} -> {Milk},\n",
       " {Butter} -> {Bread, Milk},\n",
       " {Bread} -> {Butter, Milk},\n",
       " {Bread, Milk} -> {Diaper},\n",
       " {Bread, Diaper} -> {Milk},\n",
       " {Bread} -> {Diaper, Milk},\n",
       " {Butter, Milk} -> {Diaper},\n",
       " {Butter, Diaper} -> {Milk},\n",
       " {Butter} -> {Diaper, Milk},\n",
       " {Milk, Tea} -> {Diaper},\n",
       " {Diaper, Tea} -> {Milk},\n",
       " {Diaper, Milk} -> {Tea},\n",
       " {Tea} -> {Diaper, Milk},\n",
       " {Milk} -> {Diaper, Tea},\n",
       " {Diaper} -> {Milk, Tea},\n",
       " {Butter, Diaper, Milk} -> {Bread},\n",
       " {Bread, Diaper, Milk} -> {Butter},\n",
       " {Bread, Butter, Milk} -> {Diaper},\n",
       " {Bread, Butter, Diaper} -> {Milk},\n",
       " {Butter, Milk} -> {Bread, Diaper},\n",
       " {Butter, Diaper} -> {Bread, Milk},\n",
       " {Bread, Milk} -> {Butter, Diaper},\n",
       " {Bread, Diaper} -> {Butter, Milk},\n",
       " {Bread, Butter} -> {Diaper, Milk},\n",
       " {Butter} -> {Bread, Diaper, Milk},\n",
       " {Bread} -> {Butter, Diaper, Milk}]"
      ]
     },
     "execution_count": 8,
     "metadata": {},
     "output_type": "execute_result"
    }
   ],
   "source": [
    "rules"
   ]
  },
  {
   "cell_type": "code",
   "execution_count": 9,
   "id": "3e1effc7",
   "metadata": {
    "id": "3e1effc7"
   },
   "outputs": [],
   "source": [
    "itemset, rules = apriori(transc , min_support=1, min_confidence= 1)"
   ]
  },
  {
   "cell_type": "code",
   "execution_count": 10,
   "id": "a2e4f119",
   "metadata": {
    "colab": {
     "base_uri": "https://localhost:8080/"
    },
    "id": "a2e4f119",
    "outputId": "5103282c-0a76-4a04-c540-435b9fe763d0"
   },
   "outputs": [
    {
     "data": {
      "text/plain": [
       "{1: {('Milk',): 5, ('Diaper',): 5}, 2: {('Diaper', 'Milk'): 5}}"
      ]
     },
     "execution_count": 10,
     "metadata": {},
     "output_type": "execute_result"
    }
   ],
   "source": [
    "itemset"
   ]
  },
  {
   "cell_type": "code",
   "execution_count": 11,
   "id": "f2b68a76",
   "metadata": {
    "colab": {
     "base_uri": "https://localhost:8080/"
    },
    "id": "f2b68a76",
    "outputId": "69657d79-6e3a-42cd-9dc8-4722ed70789c"
   },
   "outputs": [
    {
     "data": {
      "text/plain": [
       "[{Milk} -> {Diaper}, {Diaper} -> {Milk}]"
      ]
     },
     "execution_count": 11,
     "metadata": {},
     "output_type": "execute_result"
    }
   ],
   "source": [
    "rules"
   ]
  },
  {
   "cell_type": "code",
   "execution_count": 12,
   "id": "542a614a",
   "metadata": {
    "id": "542a614a"
   },
   "outputs": [],
   "source": [
    "itemset, rules = apriori(transc , min_support=0.6, min_confidence= 0.6)"
   ]
  },
  {
   "cell_type": "code",
   "execution_count": 13,
   "id": "13449b95",
   "metadata": {
    "colab": {
     "base_uri": "https://localhost:8080/"
    },
    "id": "13449b95",
    "outputId": "75505d18-5b90-47a2-8c1e-63701eb80c3d"
   },
   "outputs": [
    {
     "data": {
      "text/plain": [
       "{1: {('Milk',): 5, ('Diaper',): 5, ('Tea',): 4, ('Bread',): 3, ('Butter',): 3},\n",
       " 2: {('Bread', 'Butter'): 3,\n",
       "  ('Bread', 'Diaper'): 3,\n",
       "  ('Bread', 'Milk'): 3,\n",
       "  ('Butter', 'Diaper'): 3,\n",
       "  ('Butter', 'Milk'): 3,\n",
       "  ('Diaper', 'Milk'): 5,\n",
       "  ('Diaper', 'Tea'): 4,\n",
       "  ('Milk', 'Tea'): 4},\n",
       " 3: {('Bread', 'Butter', 'Diaper'): 3,\n",
       "  ('Bread', 'Butter', 'Milk'): 3,\n",
       "  ('Bread', 'Diaper', 'Milk'): 3,\n",
       "  ('Butter', 'Diaper', 'Milk'): 3,\n",
       "  ('Diaper', 'Milk', 'Tea'): 4},\n",
       " 4: {('Bread', 'Butter', 'Diaper', 'Milk'): 3}}"
      ]
     },
     "execution_count": 13,
     "metadata": {},
     "output_type": "execute_result"
    }
   ],
   "source": [
    "itemset"
   ]
  },
  {
   "cell_type": "code",
   "execution_count": 14,
   "id": "4026b1b4",
   "metadata": {
    "colab": {
     "base_uri": "https://localhost:8080/"
    },
    "id": "4026b1b4",
    "outputId": "465e0294-d7d3-402e-c7bc-a5e597033d29"
   },
   "outputs": [],
   "source": [
    "#rules"
   ]
  },
  {
   "cell_type": "code",
   "execution_count": null,
   "id": "7a064888",
   "metadata": {},
   "outputs": [],
   "source": []
  },
  {
   "cell_type": "code",
   "execution_count": null,
   "id": "aeeea425",
   "metadata": {},
   "outputs": [],
   "source": []
  },
  {
   "cell_type": "code",
   "execution_count": null,
   "id": "402548fd",
   "metadata": {},
   "outputs": [],
   "source": []
  },
  {
   "cell_type": "code",
   "execution_count": 15,
   "id": "461eb897",
   "metadata": {
    "id": "461eb897"
   },
   "outputs": [],
   "source": [
    "d1=pd.read_csv(\"20000i.csv\",header=None,names=[\"receipt no.\",\"food\",\"quantity\"])"
   ]
  },
  {
   "cell_type": "code",
   "execution_count": 16,
   "id": "5f29b58f",
   "metadata": {
    "colab": {
     "base_uri": "https://localhost:8080/",
     "height": 423
    },
    "id": "5f29b58f",
    "outputId": "571d91b0-15e9-47e4-fcfc-28d20215a68a"
   },
   "outputs": [
    {
     "data": {
      "text/html": [
       "<div>\n",
       "<style scoped>\n",
       "    .dataframe tbody tr th:only-of-type {\n",
       "        vertical-align: middle;\n",
       "    }\n",
       "\n",
       "    .dataframe tbody tr th {\n",
       "        vertical-align: top;\n",
       "    }\n",
       "\n",
       "    .dataframe thead th {\n",
       "        text-align: right;\n",
       "    }\n",
       "</style>\n",
       "<table border=\"1\" class=\"dataframe\">\n",
       "  <thead>\n",
       "    <tr style=\"text-align: right;\">\n",
       "      <th></th>\n",
       "      <th>receipt no.</th>\n",
       "      <th>food</th>\n",
       "      <th>quantity</th>\n",
       "    </tr>\n",
       "  </thead>\n",
       "  <tbody>\n",
       "    <tr>\n",
       "      <th>0</th>\n",
       "      <td>1</td>\n",
       "      <td>4</td>\n",
       "      <td>1</td>\n",
       "    </tr>\n",
       "    <tr>\n",
       "      <th>1</th>\n",
       "      <td>1</td>\n",
       "      <td>2</td>\n",
       "      <td>19</td>\n",
       "    </tr>\n",
       "    <tr>\n",
       "      <th>2</th>\n",
       "      <td>2</td>\n",
       "      <td>5</td>\n",
       "      <td>42</td>\n",
       "    </tr>\n",
       "    <tr>\n",
       "      <th>3</th>\n",
       "      <td>2</td>\n",
       "      <td>5</td>\n",
       "      <td>5</td>\n",
       "    </tr>\n",
       "    <tr>\n",
       "      <th>4</th>\n",
       "      <td>2</td>\n",
       "      <td>5</td>\n",
       "      <td>44</td>\n",
       "    </tr>\n",
       "    <tr>\n",
       "      <th>...</th>\n",
       "      <td>...</td>\n",
       "      <td>...</td>\n",
       "      <td>...</td>\n",
       "    </tr>\n",
       "    <tr>\n",
       "      <th>71125</th>\n",
       "      <td>19999</td>\n",
       "      <td>1</td>\n",
       "      <td>32</td>\n",
       "    </tr>\n",
       "    <tr>\n",
       "      <th>71126</th>\n",
       "      <td>20000</td>\n",
       "      <td>2</td>\n",
       "      <td>4</td>\n",
       "    </tr>\n",
       "    <tr>\n",
       "      <th>71127</th>\n",
       "      <td>20000</td>\n",
       "      <td>2</td>\n",
       "      <td>9</td>\n",
       "    </tr>\n",
       "    <tr>\n",
       "      <th>71128</th>\n",
       "      <td>20000</td>\n",
       "      <td>4</td>\n",
       "      <td>15</td>\n",
       "    </tr>\n",
       "    <tr>\n",
       "      <th>71129</th>\n",
       "      <td>20000</td>\n",
       "      <td>1</td>\n",
       "      <td>1</td>\n",
       "    </tr>\n",
       "  </tbody>\n",
       "</table>\n",
       "<p>71130 rows × 3 columns</p>\n",
       "</div>"
      ],
      "text/plain": [
       "       receipt no.  food  quantity\n",
       "0                1     4         1\n",
       "1                1     2        19\n",
       "2                2     5        42\n",
       "3                2     5         5\n",
       "4                2     5        44\n",
       "...            ...   ...       ...\n",
       "71125        19999     1        32\n",
       "71126        20000     2         4\n",
       "71127        20000     2         9\n",
       "71128        20000     4        15\n",
       "71129        20000     1         1\n",
       "\n",
       "[71130 rows x 3 columns]"
      ]
     },
     "execution_count": 16,
     "metadata": {},
     "output_type": "execute_result"
    }
   ],
   "source": [
    "d1"
   ]
  },
  {
   "cell_type": "code",
   "execution_count": 17,
   "id": "c72c39e3",
   "metadata": {
    "id": "c72c39e3"
   },
   "outputs": [],
   "source": [
    "dict={\n",
    "    1:\"milk\",2:\"sugar\",3:\"chocolate\",4:\"apples\",5:\"curd\"\n",
    "}"
   ]
  },
  {
   "cell_type": "code",
   "execution_count": 18,
   "id": "e29f2828",
   "metadata": {},
   "outputs": [
    {
     "data": {
      "text/html": [
       "<div>\n",
       "<style scoped>\n",
       "    .dataframe tbody tr th:only-of-type {\n",
       "        vertical-align: middle;\n",
       "    }\n",
       "\n",
       "    .dataframe tbody tr th {\n",
       "        vertical-align: top;\n",
       "    }\n",
       "\n",
       "    .dataframe thead th {\n",
       "        text-align: right;\n",
       "    }\n",
       "</style>\n",
       "<table border=\"1\" class=\"dataframe\">\n",
       "  <thead>\n",
       "    <tr style=\"text-align: right;\">\n",
       "      <th></th>\n",
       "      <th>receipt no.</th>\n",
       "      <th>food</th>\n",
       "      <th>quantity</th>\n",
       "    </tr>\n",
       "  </thead>\n",
       "  <tbody>\n",
       "    <tr>\n",
       "      <th>count</th>\n",
       "      <td>71130.000000</td>\n",
       "      <td>71130.000000</td>\n",
       "      <td>71130.000000</td>\n",
       "    </tr>\n",
       "    <tr>\n",
       "      <th>mean</th>\n",
       "      <td>10014.513553</td>\n",
       "      <td>3.008098</td>\n",
       "      <td>24.242654</td>\n",
       "    </tr>\n",
       "    <tr>\n",
       "      <th>std</th>\n",
       "      <td>5780.107663</td>\n",
       "      <td>1.414797</td>\n",
       "      <td>14.797592</td>\n",
       "    </tr>\n",
       "    <tr>\n",
       "      <th>min</th>\n",
       "      <td>1.000000</td>\n",
       "      <td>1.000000</td>\n",
       "      <td>0.000000</td>\n",
       "    </tr>\n",
       "    <tr>\n",
       "      <th>25%</th>\n",
       "      <td>4998.000000</td>\n",
       "      <td>2.000000</td>\n",
       "      <td>11.000000</td>\n",
       "    </tr>\n",
       "    <tr>\n",
       "      <th>50%</th>\n",
       "      <td>9999.000000</td>\n",
       "      <td>3.000000</td>\n",
       "      <td>24.000000</td>\n",
       "    </tr>\n",
       "    <tr>\n",
       "      <th>75%</th>\n",
       "      <td>15035.750000</td>\n",
       "      <td>4.000000</td>\n",
       "      <td>37.000000</td>\n",
       "    </tr>\n",
       "    <tr>\n",
       "      <th>max</th>\n",
       "      <td>20000.000000</td>\n",
       "      <td>5.000000</td>\n",
       "      <td>49.000000</td>\n",
       "    </tr>\n",
       "  </tbody>\n",
       "</table>\n",
       "</div>"
      ],
      "text/plain": [
       "        receipt no.          food      quantity\n",
       "count  71130.000000  71130.000000  71130.000000\n",
       "mean   10014.513553      3.008098     24.242654\n",
       "std     5780.107663      1.414797     14.797592\n",
       "min        1.000000      1.000000      0.000000\n",
       "25%     4998.000000      2.000000     11.000000\n",
       "50%     9999.000000      3.000000     24.000000\n",
       "75%    15035.750000      4.000000     37.000000\n",
       "max    20000.000000      5.000000     49.000000"
      ]
     },
     "execution_count": 18,
     "metadata": {},
     "output_type": "execute_result"
    }
   ],
   "source": [
    "d1.describe()"
   ]
  },
  {
   "cell_type": "code",
   "execution_count": 19,
   "id": "d0fd1f14",
   "metadata": {},
   "outputs": [
    {
     "data": {
      "text/html": [
       "<div>\n",
       "<style scoped>\n",
       "    .dataframe tbody tr th:only-of-type {\n",
       "        vertical-align: middle;\n",
       "    }\n",
       "\n",
       "    .dataframe tbody tr th {\n",
       "        vertical-align: top;\n",
       "    }\n",
       "\n",
       "    .dataframe thead th {\n",
       "        text-align: right;\n",
       "    }\n",
       "</style>\n",
       "<table border=\"1\" class=\"dataframe\">\n",
       "  <thead>\n",
       "    <tr style=\"text-align: right;\">\n",
       "      <th></th>\n",
       "      <th>receipt no.</th>\n",
       "      <th>food</th>\n",
       "      <th>quantity</th>\n",
       "    </tr>\n",
       "  </thead>\n",
       "  <tbody>\n",
       "    <tr>\n",
       "      <th>0</th>\n",
       "      <td>1</td>\n",
       "      <td>4</td>\n",
       "      <td>1</td>\n",
       "    </tr>\n",
       "    <tr>\n",
       "      <th>1</th>\n",
       "      <td>1</td>\n",
       "      <td>2</td>\n",
       "      <td>19</td>\n",
       "    </tr>\n",
       "    <tr>\n",
       "      <th>2</th>\n",
       "      <td>2</td>\n",
       "      <td>5</td>\n",
       "      <td>42</td>\n",
       "    </tr>\n",
       "    <tr>\n",
       "      <th>3</th>\n",
       "      <td>2</td>\n",
       "      <td>5</td>\n",
       "      <td>5</td>\n",
       "    </tr>\n",
       "    <tr>\n",
       "      <th>4</th>\n",
       "      <td>2</td>\n",
       "      <td>5</td>\n",
       "      <td>44</td>\n",
       "    </tr>\n",
       "  </tbody>\n",
       "</table>\n",
       "</div>"
      ],
      "text/plain": [
       "   receipt no.  food  quantity\n",
       "0            1     4         1\n",
       "1            1     2        19\n",
       "2            2     5        42\n",
       "3            2     5         5\n",
       "4            2     5        44"
      ]
     },
     "execution_count": 19,
     "metadata": {},
     "output_type": "execute_result"
    }
   ],
   "source": [
    "d1.head()"
   ]
  },
  {
   "cell_type": "code",
   "execution_count": 21,
   "id": "768591d3",
   "metadata": {
    "colab": {
     "base_uri": "https://localhost:8080/",
     "height": 423
    },
    "id": "768591d3",
    "outputId": "69293f3a-9f35-44e7-f9f6-b104a0121250"
   },
   "outputs": [],
   "source": [
    "d1=pd.DataFrame(d1)"
   ]
  },
  {
   "cell_type": "code",
   "execution_count": 22,
   "id": "6fef7cdf",
   "metadata": {
    "colab": {
     "base_uri": "https://localhost:8080/",
     "height": 423
    },
    "id": "6fef7cdf",
    "outputId": "3df0f322-ece6-4418-ed3e-55998d949833"
   },
   "outputs": [],
   "source": [
    "d2=pd.DataFrame(d1)\n"
   ]
  },
  {
   "cell_type": "code",
   "execution_count": 23,
   "id": "3cccc3f1",
   "metadata": {
    "colab": {
     "base_uri": "https://localhost:8080/"
    },
    "id": "3cccc3f1",
    "outputId": "a82ae3c8-c22a-4b5b-d9f2-7127e2fbfbfb"
   },
   "outputs": [
    {
     "data": {
      "text/plain": [
       "0        apples\n",
       "1         sugar\n",
       "2          curd\n",
       "3          curd\n",
       "4          curd\n",
       "          ...  \n",
       "71125      milk\n",
       "71126     sugar\n",
       "71127     sugar\n",
       "71128    apples\n",
       "71129      milk\n",
       "Name: food, Length: 71130, dtype: object"
      ]
     },
     "execution_count": 23,
     "metadata": {},
     "output_type": "execute_result"
    }
   ],
   "source": [
    "d2[\"food\"].map(dict)"
   ]
  },
  {
   "cell_type": "code",
   "execution_count": 28,
   "id": "3d8414ef",
   "metadata": {
    "colab": {
     "base_uri": "https://localhost:8080/",
     "height": 423
    },
    "id": "3d8414ef",
    "outputId": "beb38127-e1a0-4813-a368-182eada47e1a"
   },
   "outputs": [
    {
     "data": {
      "text/html": [
       "<div>\n",
       "<style scoped>\n",
       "    .dataframe tbody tr th:only-of-type {\n",
       "        vertical-align: middle;\n",
       "    }\n",
       "\n",
       "    .dataframe tbody tr th {\n",
       "        vertical-align: top;\n",
       "    }\n",
       "\n",
       "    .dataframe thead th {\n",
       "        text-align: right;\n",
       "    }\n",
       "</style>\n",
       "<table border=\"1\" class=\"dataframe\">\n",
       "  <thead>\n",
       "    <tr style=\"text-align: right;\">\n",
       "      <th></th>\n",
       "      <th>receipt no.</th>\n",
       "      <th>food</th>\n",
       "      <th>quantity</th>\n",
       "    </tr>\n",
       "  </thead>\n",
       "  <tbody>\n",
       "    <tr>\n",
       "      <th>0</th>\n",
       "      <td>1</td>\n",
       "      <td>chocolate</td>\n",
       "      <td>7</td>\n",
       "    </tr>\n",
       "    <tr>\n",
       "      <th>1</th>\n",
       "      <td>1</td>\n",
       "      <td>apples</td>\n",
       "      <td>15</td>\n",
       "    </tr>\n",
       "    <tr>\n",
       "      <th>2</th>\n",
       "      <td>1</td>\n",
       "      <td>sugar</td>\n",
       "      <td>49</td>\n",
       "    </tr>\n",
       "    <tr>\n",
       "      <th>3</th>\n",
       "      <td>1</td>\n",
       "      <td>curd</td>\n",
       "      <td>44</td>\n",
       "    </tr>\n",
       "    <tr>\n",
       "      <th>4</th>\n",
       "      <td>2</td>\n",
       "      <td>milk</td>\n",
       "      <td>1</td>\n",
       "    </tr>\n",
       "    <tr>\n",
       "      <th>...</th>\n",
       "      <td>...</td>\n",
       "      <td>...</td>\n",
       "      <td>...</td>\n",
       "    </tr>\n",
       "    <tr>\n",
       "      <th>3533</th>\n",
       "      <td>999</td>\n",
       "      <td>curd</td>\n",
       "      <td>35</td>\n",
       "    </tr>\n",
       "    <tr>\n",
       "      <th>3534</th>\n",
       "      <td>999</td>\n",
       "      <td>sugar</td>\n",
       "      <td>3</td>\n",
       "    </tr>\n",
       "    <tr>\n",
       "      <th>3535</th>\n",
       "      <td>1000</td>\n",
       "      <td>apples</td>\n",
       "      <td>15</td>\n",
       "    </tr>\n",
       "    <tr>\n",
       "      <th>3536</th>\n",
       "      <td>1000</td>\n",
       "      <td>chocolate</td>\n",
       "      <td>47</td>\n",
       "    </tr>\n",
       "    <tr>\n",
       "      <th>3537</th>\n",
       "      <td>1000</td>\n",
       "      <td>chocolate</td>\n",
       "      <td>34</td>\n",
       "    </tr>\n",
       "  </tbody>\n",
       "</table>\n",
       "<p>3538 rows × 3 columns</p>\n",
       "</div>"
      ],
      "text/plain": [
       "      receipt no.       food  quantity\n",
       "0               1  chocolate         7\n",
       "1               1     apples        15\n",
       "2               1      sugar        49\n",
       "3               1       curd        44\n",
       "4               2       milk         1\n",
       "...           ...        ...       ...\n",
       "3533          999       curd        35\n",
       "3534          999      sugar         3\n",
       "3535         1000     apples        15\n",
       "3536         1000  chocolate        47\n",
       "3537         1000  chocolate        34\n",
       "\n",
       "[3538 rows x 3 columns]"
      ]
     },
     "execution_count": 28,
     "metadata": {},
     "output_type": "execute_result"
    }
   ],
   "source": [
    "d1['food'] = d1['food'].replace(dict)\n",
    "d1"
   ]
  },
  {
   "cell_type": "code",
   "execution_count": 24,
   "id": "598ee66d",
   "metadata": {
    "colab": {
     "base_uri": "https://localhost:8080/"
    },
    "id": "598ee66d",
    "outputId": "8c7013d5-1718-4615-cd09-020908440041"
   },
   "outputs": [
    {
     "data": {
      "text/plain": [
       "receipt no.\n",
       "1                       [4, 2]\n",
       "2                 [5, 5, 5, 2]\n",
       "3        [4, 4, 2, 1, 4, 2, 4]\n",
       "4           [3, 3, 3, 4, 2, 5]\n",
       "5              [3, 5, 3, 2, 4]\n",
       "                 ...          \n",
       "19996          [5, 1, 3, 2, 5]\n",
       "19997             [2, 3, 2, 3]\n",
       "19998                [4, 2, 3]\n",
       "19999          [1, 2, 3, 1, 1]\n",
       "20000             [2, 2, 4, 1]\n",
       "Name: food, Length: 20000, dtype: object"
      ]
     },
     "execution_count": 24,
     "metadata": {},
     "output_type": "execute_result"
    }
   ],
   "source": [
    "transactions=d1.groupby(d1['receipt no.'])['food'].apply(lambda x:list(x))\n",
    "transactions"
   ]
  },
  {
   "cell_type": "code",
   "execution_count": 25,
   "id": "aac10246",
   "metadata": {
    "id": "aac10246"
   },
   "outputs": [],
   "source": [
    "itemset1,rules1=apriori(transactions,min_support=0.5,min_confidence=0.75)"
   ]
  },
  {
   "cell_type": "code",
   "execution_count": 26,
   "id": "23a76bfa",
   "metadata": {
    "colab": {
     "base_uri": "https://localhost:8080/"
    },
    "id": "23a76bfa",
    "outputId": "3f26f9cd-35f7-45eb-efdf-610f50066103"
   },
   "outputs": [
    {
     "data": {
      "text/plain": [
       "{1: {(4,): 10492, (2,): 10445, (5,): 10506, (1,): 10444, (3,): 10518}}"
      ]
     },
     "execution_count": 26,
     "metadata": {},
     "output_type": "execute_result"
    }
   ],
   "source": [
    "itemset1"
   ]
  },
  {
   "cell_type": "code",
   "execution_count": 27,
   "id": "d7481fb7",
   "metadata": {
    "colab": {
     "base_uri": "https://localhost:8080/"
    },
    "id": "d7481fb7",
    "outputId": "7ef37d5d-52da-46a0-a186-8bfca70f6114"
   },
   "outputs": [
    {
     "data": {
      "text/plain": [
       "[]"
      ]
     },
     "execution_count": 27,
     "metadata": {},
     "output_type": "execute_result"
    }
   ],
   "source": [
    "rules1"
   ]
  },
  {
   "cell_type": "code",
   "execution_count": 28,
   "id": "8b9f0f4b",
   "metadata": {
    "id": "8b9f0f4b"
   },
   "outputs": [],
   "source": [
    "itemset1,rules1=apriori(transactions,min_support=0.3,min_confidence=0.6)"
   ]
  },
  {
   "cell_type": "code",
   "execution_count": 29,
   "id": "79e17c0a",
   "metadata": {
    "colab": {
     "base_uri": "https://localhost:8080/"
    },
    "id": "79e17c0a",
    "outputId": "99b814cc-d32e-4299-c592-3c9a2ba36b6f"
   },
   "outputs": [
    {
     "data": {
      "text/plain": [
       "{1: {(4,): 10492, (2,): 10445, (5,): 10506, (1,): 10444, (3,): 10518}}"
      ]
     },
     "execution_count": 29,
     "metadata": {},
     "output_type": "execute_result"
    }
   ],
   "source": [
    "itemset1"
   ]
  },
  {
   "cell_type": "code",
   "execution_count": 30,
   "id": "4adb580b",
   "metadata": {
    "id": "4adb580b"
   },
   "outputs": [
    {
     "data": {
      "text/plain": [
       "<BarContainer object of 3 artists>"
      ]
     },
     "execution_count": 30,
     "metadata": {},
     "output_type": "execute_result"
    },
    {
     "data": {
      "image/png": "[encoded data removed]",
      "text/plain": [
       "<Figure size 640x480 with 1 Axes>"
      ]
     },
     "metadata": {},
     "output_type": "display_data"
    }
   ],
   "source": [
    "x=[\"Receipt No.\",\"Food\",\"Quantity\"]\n",
    "y=['receipt no.','food','quantity']\n",
    "plt.bar(x,y)"
   ]
  },
  {
   "cell_type": "code",
   "execution_count": null,
   "id": "c1d0e4fd",
   "metadata": {},
   "outputs": [],
   "source": []
  },
  {
   "cell_type": "code",
   "execution_count": null,
   "id": "c39e6931",
   "metadata": {},
   "outputs": [],
   "source": []
  },
  {
   "cell_type": "code",
   "execution_count": null,
   "id": "bde48682",
   "metadata": {},
   "outputs": [],
   "source": []
  },
  {
   "cell_type": "code",
   "execution_count": null,
   "id": "96300233",
   "metadata": {},
   "outputs": [],
   "source": []
  },
  {
   "cell_type": "code",
   "execution_count": null,
   "id": "b6c916e9",
   "metadata": {},
   "outputs": [],
   "source": []
  },
  {
   "cell_type": "code",
   "execution_count": null,
   "id": "d7a1c859",
   "metadata": {},
   "outputs": [],
   "source": []
  },
  {
   "cell_type": "code",
   "execution_count": null,
   "id": "4faf5ee7",
   "metadata": {},
   "outputs": [],
   "source": []
  },
  {
   "cell_type": "code",
   "execution_count": null,
   "id": "d4932606",
   "metadata": {},
   "outputs": [],
   "source": []
  },
  {
   "cell_type": "code",
   "execution_count": 31,
   "id": "f41befbe",
   "metadata": {},
   "outputs": [],
   "source": [
    "groceries=pd.read_csv(\"groceriesDataset.csv\")"
   ]
  },
  {
   "cell_type": "code",
   "execution_count": 32,
   "id": "6d1578cb",
   "metadata": {},
   "outputs": [
    {
     "data": {
      "text/html": [
       "<div>\n",
       "<style scoped>\n",
       "    .dataframe tbody tr th:only-of-type {\n",
       "        vertical-align: middle;\n",
       "    }\n",
       "\n",
       "    .dataframe tbody tr th {\n",
       "        vertical-align: top;\n",
       "    }\n",
       "\n",
       "    .dataframe thead th {\n",
       "        text-align: right;\n",
       "    }\n",
       "</style>\n",
       "<table border=\"1\" class=\"dataframe\">\n",
       "  <thead>\n",
       "    <tr style=\"text-align: right;\">\n",
       "      <th></th>\n",
       "      <th>Item(s)</th>\n",
       "      <th>Item 1</th>\n",
       "      <th>Item 2</th>\n",
       "      <th>Item 3</th>\n",
       "      <th>Item 4</th>\n",
       "      <th>Item 5</th>\n",
       "      <th>Item 6</th>\n",
       "      <th>Item 7</th>\n",
       "      <th>Item 8</th>\n",
       "      <th>Item 9</th>\n",
       "      <th>...</th>\n",
       "      <th>Item 23</th>\n",
       "      <th>Item 24</th>\n",
       "      <th>Item 25</th>\n",
       "      <th>Item 26</th>\n",
       "      <th>Item 27</th>\n",
       "      <th>Item 28</th>\n",
       "      <th>Item 29</th>\n",
       "      <th>Item 30</th>\n",
       "      <th>Item 31</th>\n",
       "      <th>Item 32</th>\n",
       "    </tr>\n",
       "  </thead>\n",
       "  <tbody>\n",
       "    <tr>\n",
       "      <th>0</th>\n",
       "      <td>4</td>\n",
       "      <td>citrus fruit</td>\n",
       "      <td>semi-finished bread</td>\n",
       "      <td>margarine</td>\n",
       "      <td>ready soups</td>\n",
       "      <td>NaN</td>\n",
       "      <td>NaN</td>\n",
       "      <td>NaN</td>\n",
       "      <td>NaN</td>\n",
       "      <td>NaN</td>\n",
       "      <td>...</td>\n",
       "      <td>NaN</td>\n",
       "      <td>NaN</td>\n",
       "      <td>NaN</td>\n",
       "      <td>NaN</td>\n",
       "      <td>NaN</td>\n",
       "      <td>NaN</td>\n",
       "      <td>NaN</td>\n",
       "      <td>NaN</td>\n",
       "      <td>NaN</td>\n",
       "      <td>NaN</td>\n",
       "    </tr>\n",
       "    <tr>\n",
       "      <th>1</th>\n",
       "      <td>3</td>\n",
       "      <td>tropical fruit</td>\n",
       "      <td>yogurt</td>\n",
       "      <td>coffee</td>\n",
       "      <td>NaN</td>\n",
       "      <td>NaN</td>\n",
       "      <td>NaN</td>\n",
       "      <td>NaN</td>\n",
       "      <td>NaN</td>\n",
       "      <td>NaN</td>\n",
       "      <td>...</td>\n",
       "      <td>NaN</td>\n",
       "      <td>NaN</td>\n",
       "      <td>NaN</td>\n",
       "      <td>NaN</td>\n",
       "      <td>NaN</td>\n",
       "      <td>NaN</td>\n",
       "      <td>NaN</td>\n",
       "      <td>NaN</td>\n",
       "      <td>NaN</td>\n",
       "      <td>NaN</td>\n",
       "    </tr>\n",
       "    <tr>\n",
       "      <th>2</th>\n",
       "      <td>1</td>\n",
       "      <td>whole milk</td>\n",
       "      <td>NaN</td>\n",
       "      <td>NaN</td>\n",
       "      <td>NaN</td>\n",
       "      <td>NaN</td>\n",
       "      <td>NaN</td>\n",
       "      <td>NaN</td>\n",
       "      <td>NaN</td>\n",
       "      <td>NaN</td>\n",
       "      <td>...</td>\n",
       "      <td>NaN</td>\n",
       "      <td>NaN</td>\n",
       "      <td>NaN</td>\n",
       "      <td>NaN</td>\n",
       "      <td>NaN</td>\n",
       "      <td>NaN</td>\n",
       "      <td>NaN</td>\n",
       "      <td>NaN</td>\n",
       "      <td>NaN</td>\n",
       "      <td>NaN</td>\n",
       "    </tr>\n",
       "    <tr>\n",
       "      <th>3</th>\n",
       "      <td>4</td>\n",
       "      <td>pip fruit</td>\n",
       "      <td>yogurt</td>\n",
       "      <td>cream cheese</td>\n",
       "      <td>meat spreads</td>\n",
       "      <td>NaN</td>\n",
       "      <td>NaN</td>\n",
       "      <td>NaN</td>\n",
       "      <td>NaN</td>\n",
       "      <td>NaN</td>\n",
       "      <td>...</td>\n",
       "      <td>NaN</td>\n",
       "      <td>NaN</td>\n",
       "      <td>NaN</td>\n",
       "      <td>NaN</td>\n",
       "      <td>NaN</td>\n",
       "      <td>NaN</td>\n",
       "      <td>NaN</td>\n",
       "      <td>NaN</td>\n",
       "      <td>NaN</td>\n",
       "      <td>NaN</td>\n",
       "    </tr>\n",
       "    <tr>\n",
       "      <th>4</th>\n",
       "      <td>4</td>\n",
       "      <td>other vegetables</td>\n",
       "      <td>whole milk</td>\n",
       "      <td>condensed milk</td>\n",
       "      <td>long life bakery product</td>\n",
       "      <td>NaN</td>\n",
       "      <td>NaN</td>\n",
       "      <td>NaN</td>\n",
       "      <td>NaN</td>\n",
       "      <td>NaN</td>\n",
       "      <td>...</td>\n",
       "      <td>NaN</td>\n",
       "      <td>NaN</td>\n",
       "      <td>NaN</td>\n",
       "      <td>NaN</td>\n",
       "      <td>NaN</td>\n",
       "      <td>NaN</td>\n",
       "      <td>NaN</td>\n",
       "      <td>NaN</td>\n",
       "      <td>NaN</td>\n",
       "      <td>NaN</td>\n",
       "    </tr>\n",
       "    <tr>\n",
       "      <th>...</th>\n",
       "      <td>...</td>\n",
       "      <td>...</td>\n",
       "      <td>...</td>\n",
       "      <td>...</td>\n",
       "      <td>...</td>\n",
       "      <td>...</td>\n",
       "      <td>...</td>\n",
       "      <td>...</td>\n",
       "      <td>...</td>\n",
       "      <td>...</td>\n",
       "      <td>...</td>\n",
       "      <td>...</td>\n",
       "      <td>...</td>\n",
       "      <td>...</td>\n",
       "      <td>...</td>\n",
       "      <td>...</td>\n",
       "      <td>...</td>\n",
       "      <td>...</td>\n",
       "      <td>...</td>\n",
       "      <td>...</td>\n",
       "      <td>...</td>\n",
       "    </tr>\n",
       "    <tr>\n",
       "      <th>9830</th>\n",
       "      <td>17</td>\n",
       "      <td>sausage</td>\n",
       "      <td>chicken</td>\n",
       "      <td>beef</td>\n",
       "      <td>hamburger meat</td>\n",
       "      <td>citrus fruit</td>\n",
       "      <td>grapes</td>\n",
       "      <td>root vegetables</td>\n",
       "      <td>whole milk</td>\n",
       "      <td>butter</td>\n",
       "      <td>...</td>\n",
       "      <td>NaN</td>\n",
       "      <td>NaN</td>\n",
       "      <td>NaN</td>\n",
       "      <td>NaN</td>\n",
       "      <td>NaN</td>\n",
       "      <td>NaN</td>\n",
       "      <td>NaN</td>\n",
       "      <td>NaN</td>\n",
       "      <td>NaN</td>\n",
       "      <td>NaN</td>\n",
       "    </tr>\n",
       "    <tr>\n",
       "      <th>9831</th>\n",
       "      <td>1</td>\n",
       "      <td>cooking chocolate</td>\n",
       "      <td>NaN</td>\n",
       "      <td>NaN</td>\n",
       "      <td>NaN</td>\n",
       "      <td>NaN</td>\n",
       "      <td>NaN</td>\n",
       "      <td>NaN</td>\n",
       "      <td>NaN</td>\n",
       "      <td>NaN</td>\n",
       "      <td>...</td>\n",
       "      <td>NaN</td>\n",
       "      <td>NaN</td>\n",
       "      <td>NaN</td>\n",
       "      <td>NaN</td>\n",
       "      <td>NaN</td>\n",
       "      <td>NaN</td>\n",
       "      <td>NaN</td>\n",
       "      <td>NaN</td>\n",
       "      <td>NaN</td>\n",
       "      <td>NaN</td>\n",
       "    </tr>\n",
       "    <tr>\n",
       "      <th>9832</th>\n",
       "      <td>10</td>\n",
       "      <td>chicken</td>\n",
       "      <td>citrus fruit</td>\n",
       "      <td>other vegetables</td>\n",
       "      <td>butter</td>\n",
       "      <td>yogurt</td>\n",
       "      <td>frozen dessert</td>\n",
       "      <td>domestic eggs</td>\n",
       "      <td>rolls/buns</td>\n",
       "      <td>rum</td>\n",
       "      <td>...</td>\n",
       "      <td>NaN</td>\n",
       "      <td>NaN</td>\n",
       "      <td>NaN</td>\n",
       "      <td>NaN</td>\n",
       "      <td>NaN</td>\n",
       "      <td>NaN</td>\n",
       "      <td>NaN</td>\n",
       "      <td>NaN</td>\n",
       "      <td>NaN</td>\n",
       "      <td>NaN</td>\n",
       "    </tr>\n",
       "    <tr>\n",
       "      <th>9833</th>\n",
       "      <td>4</td>\n",
       "      <td>semi-finished bread</td>\n",
       "      <td>bottled water</td>\n",
       "      <td>soda</td>\n",
       "      <td>bottled beer</td>\n",
       "      <td>NaN</td>\n",
       "      <td>NaN</td>\n",
       "      <td>NaN</td>\n",
       "      <td>NaN</td>\n",
       "      <td>NaN</td>\n",
       "      <td>...</td>\n",
       "      <td>NaN</td>\n",
       "      <td>NaN</td>\n",
       "      <td>NaN</td>\n",
       "      <td>NaN</td>\n",
       "      <td>NaN</td>\n",
       "      <td>NaN</td>\n",
       "      <td>NaN</td>\n",
       "      <td>NaN</td>\n",
       "      <td>NaN</td>\n",
       "      <td>NaN</td>\n",
       "    </tr>\n",
       "    <tr>\n",
       "      <th>9834</th>\n",
       "      <td>5</td>\n",
       "      <td>chicken</td>\n",
       "      <td>tropical fruit</td>\n",
       "      <td>other vegetables</td>\n",
       "      <td>vinegar</td>\n",
       "      <td>shopping bags</td>\n",
       "      <td>NaN</td>\n",
       "      <td>NaN</td>\n",
       "      <td>NaN</td>\n",
       "      <td>NaN</td>\n",
       "      <td>...</td>\n",
       "      <td>NaN</td>\n",
       "      <td>NaN</td>\n",
       "      <td>NaN</td>\n",
       "      <td>NaN</td>\n",
       "      <td>NaN</td>\n",
       "      <td>NaN</td>\n",
       "      <td>NaN</td>\n",
       "      <td>NaN</td>\n",
       "      <td>NaN</td>\n",
       "      <td>NaN</td>\n",
       "    </tr>\n",
       "  </tbody>\n",
       "</table>\n",
       "<p>9835 rows × 33 columns</p>\n",
       "</div>"
      ],
      "text/plain": [
       "      Item(s)               Item 1               Item 2            Item 3  \\\n",
       "0           4         citrus fruit  semi-finished bread         margarine   \n",
       "1           3       tropical fruit               yogurt            coffee   \n",
       "2           1           whole milk                  NaN               NaN   \n",
       "3           4            pip fruit               yogurt      cream cheese   \n",
       "4           4     other vegetables           whole milk    condensed milk   \n",
       "...       ...                  ...                  ...               ...   \n",
       "9830       17              sausage              chicken              beef   \n",
       "9831        1    cooking chocolate                  NaN               NaN   \n",
       "9832       10              chicken         citrus fruit  other vegetables   \n",
       "9833        4  semi-finished bread        bottled water              soda   \n",
       "9834        5              chicken       tropical fruit  other vegetables   \n",
       "\n",
       "                        Item 4         Item 5          Item 6  \\\n",
       "0                  ready soups            NaN             NaN   \n",
       "1                          NaN            NaN             NaN   \n",
       "2                          NaN            NaN             NaN   \n",
       "3                 meat spreads            NaN             NaN   \n",
       "4     long life bakery product            NaN             NaN   \n",
       "...                        ...            ...             ...   \n",
       "9830            hamburger meat   citrus fruit          grapes   \n",
       "9831                       NaN            NaN             NaN   \n",
       "9832                    butter         yogurt  frozen dessert   \n",
       "9833              bottled beer            NaN             NaN   \n",
       "9834                   vinegar  shopping bags             NaN   \n",
       "\n",
       "               Item 7      Item 8  Item 9  ... Item 23 Item 24 Item 25  \\\n",
       "0                 NaN         NaN     NaN  ...     NaN     NaN     NaN   \n",
       "1                 NaN         NaN     NaN  ...     NaN     NaN     NaN   \n",
       "2                 NaN         NaN     NaN  ...     NaN     NaN     NaN   \n",
       "3                 NaN         NaN     NaN  ...     NaN     NaN     NaN   \n",
       "4                 NaN         NaN     NaN  ...     NaN     NaN     NaN   \n",
       "...               ...         ...     ...  ...     ...     ...     ...   \n",
       "9830  root vegetables  whole milk  butter  ...     NaN     NaN     NaN   \n",
       "9831              NaN         NaN     NaN  ...     NaN     NaN     NaN   \n",
       "9832    domestic eggs  rolls/buns     rum  ...     NaN     NaN     NaN   \n",
       "9833              NaN         NaN     NaN  ...     NaN     NaN     NaN   \n",
       "9834              NaN         NaN     NaN  ...     NaN     NaN     NaN   \n",
       "\n",
       "     Item 26 Item 27 Item 28 Item 29 Item 30 Item 31 Item 32  \n",
       "0        NaN     NaN     NaN     NaN     NaN     NaN     NaN  \n",
       "1        NaN     NaN     NaN     NaN     NaN     NaN     NaN  \n",
       "2        NaN     NaN     NaN     NaN     NaN     NaN     NaN  \n",
       "3        NaN     NaN     NaN     NaN     NaN     NaN     NaN  \n",
       "4        NaN     NaN     NaN     NaN     NaN     NaN     NaN  \n",
       "...      ...     ...     ...     ...     ...     ...     ...  \n",
       "9830     NaN     NaN     NaN     NaN     NaN     NaN     NaN  \n",
       "9831     NaN     NaN     NaN     NaN     NaN     NaN     NaN  \n",
       "9832     NaN     NaN     NaN     NaN     NaN     NaN     NaN  \n",
       "9833     NaN     NaN     NaN     NaN     NaN     NaN     NaN  \n",
       "9834     NaN     NaN     NaN     NaN     NaN     NaN     NaN  \n",
       "\n",
       "[9835 rows x 33 columns]"
      ]
     },
     "execution_count": 32,
     "metadata": {},
     "output_type": "execute_result"
    }
   ],
   "source": [
    "groceries"
   ]
  },
  {
   "cell_type": "code",
   "execution_count": 39,
   "id": "d0d66397",
   "metadata": {},
   "outputs": [
    {
     "data": {
      "text/html": [
       "<div>\n",
       "<style scoped>\n",
       "    .dataframe tbody tr th:only-of-type {\n",
       "        vertical-align: middle;\n",
       "    }\n",
       "\n",
       "    .dataframe tbody tr th {\n",
       "        vertical-align: top;\n",
       "    }\n",
       "\n",
       "    .dataframe thead th {\n",
       "        text-align: right;\n",
       "    }\n",
       "</style>\n",
       "<table border=\"1\" class=\"dataframe\">\n",
       "  <thead>\n",
       "    <tr style=\"text-align: right;\">\n",
       "      <th></th>\n",
       "      <th>Item 1</th>\n",
       "      <th>Item 2</th>\n",
       "      <th>Item 3</th>\n",
       "      <th>Item 4</th>\n",
       "      <th>Item 5</th>\n",
       "      <th>Item 6</th>\n",
       "      <th>Item 7</th>\n",
       "      <th>Item 8</th>\n",
       "      <th>Item 9</th>\n",
       "      <th>Item 10</th>\n",
       "      <th>...</th>\n",
       "      <th>Item 23</th>\n",
       "      <th>Item 24</th>\n",
       "      <th>Item 25</th>\n",
       "      <th>Item 26</th>\n",
       "      <th>Item 27</th>\n",
       "      <th>Item 28</th>\n",
       "      <th>Item 29</th>\n",
       "      <th>Item 30</th>\n",
       "      <th>Item 31</th>\n",
       "      <th>Item 32</th>\n",
       "    </tr>\n",
       "  </thead>\n",
       "  <tbody>\n",
       "    <tr>\n",
       "      <th>0</th>\n",
       "      <td>citrus fruit</td>\n",
       "      <td>semi-finished bread</td>\n",
       "      <td>margarine</td>\n",
       "      <td>ready soups</td>\n",
       "      <td>NaN</td>\n",
       "      <td>NaN</td>\n",
       "      <td>NaN</td>\n",
       "      <td>NaN</td>\n",
       "      <td>NaN</td>\n",
       "      <td>NaN</td>\n",
       "      <td>...</td>\n",
       "      <td>NaN</td>\n",
       "      <td>NaN</td>\n",
       "      <td>NaN</td>\n",
       "      <td>NaN</td>\n",
       "      <td>NaN</td>\n",
       "      <td>NaN</td>\n",
       "      <td>NaN</td>\n",
       "      <td>NaN</td>\n",
       "      <td>NaN</td>\n",
       "      <td>NaN</td>\n",
       "    </tr>\n",
       "    <tr>\n",
       "      <th>1</th>\n",
       "      <td>tropical fruit</td>\n",
       "      <td>yogurt</td>\n",
       "      <td>coffee</td>\n",
       "      <td>NaN</td>\n",
       "      <td>NaN</td>\n",
       "      <td>NaN</td>\n",
       "      <td>NaN</td>\n",
       "      <td>NaN</td>\n",
       "      <td>NaN</td>\n",
       "      <td>NaN</td>\n",
       "      <td>...</td>\n",
       "      <td>NaN</td>\n",
       "      <td>NaN</td>\n",
       "      <td>NaN</td>\n",
       "      <td>NaN</td>\n",
       "      <td>NaN</td>\n",
       "      <td>NaN</td>\n",
       "      <td>NaN</td>\n",
       "      <td>NaN</td>\n",
       "      <td>NaN</td>\n",
       "      <td>NaN</td>\n",
       "    </tr>\n",
       "    <tr>\n",
       "      <th>2</th>\n",
       "      <td>whole milk</td>\n",
       "      <td>NaN</td>\n",
       "      <td>NaN</td>\n",
       "      <td>NaN</td>\n",
       "      <td>NaN</td>\n",
       "      <td>NaN</td>\n",
       "      <td>NaN</td>\n",
       "      <td>NaN</td>\n",
       "      <td>NaN</td>\n",
       "      <td>NaN</td>\n",
       "      <td>...</td>\n",
       "      <td>NaN</td>\n",
       "      <td>NaN</td>\n",
       "      <td>NaN</td>\n",
       "      <td>NaN</td>\n",
       "      <td>NaN</td>\n",
       "      <td>NaN</td>\n",
       "      <td>NaN</td>\n",
       "      <td>NaN</td>\n",
       "      <td>NaN</td>\n",
       "      <td>NaN</td>\n",
       "    </tr>\n",
       "    <tr>\n",
       "      <th>3</th>\n",
       "      <td>pip fruit</td>\n",
       "      <td>yogurt</td>\n",
       "      <td>cream cheese</td>\n",
       "      <td>meat spreads</td>\n",
       "      <td>NaN</td>\n",
       "      <td>NaN</td>\n",
       "      <td>NaN</td>\n",
       "      <td>NaN</td>\n",
       "      <td>NaN</td>\n",
       "      <td>NaN</td>\n",
       "      <td>...</td>\n",
       "      <td>NaN</td>\n",
       "      <td>NaN</td>\n",
       "      <td>NaN</td>\n",
       "      <td>NaN</td>\n",
       "      <td>NaN</td>\n",
       "      <td>NaN</td>\n",
       "      <td>NaN</td>\n",
       "      <td>NaN</td>\n",
       "      <td>NaN</td>\n",
       "      <td>NaN</td>\n",
       "    </tr>\n",
       "    <tr>\n",
       "      <th>4</th>\n",
       "      <td>other vegetables</td>\n",
       "      <td>whole milk</td>\n",
       "      <td>condensed milk</td>\n",
       "      <td>long life bakery product</td>\n",
       "      <td>NaN</td>\n",
       "      <td>NaN</td>\n",
       "      <td>NaN</td>\n",
       "      <td>NaN</td>\n",
       "      <td>NaN</td>\n",
       "      <td>NaN</td>\n",
       "      <td>...</td>\n",
       "      <td>NaN</td>\n",
       "      <td>NaN</td>\n",
       "      <td>NaN</td>\n",
       "      <td>NaN</td>\n",
       "      <td>NaN</td>\n",
       "      <td>NaN</td>\n",
       "      <td>NaN</td>\n",
       "      <td>NaN</td>\n",
       "      <td>NaN</td>\n",
       "      <td>NaN</td>\n",
       "    </tr>\n",
       "    <tr>\n",
       "      <th>...</th>\n",
       "      <td>...</td>\n",
       "      <td>...</td>\n",
       "      <td>...</td>\n",
       "      <td>...</td>\n",
       "      <td>...</td>\n",
       "      <td>...</td>\n",
       "      <td>...</td>\n",
       "      <td>...</td>\n",
       "      <td>...</td>\n",
       "      <td>...</td>\n",
       "      <td>...</td>\n",
       "      <td>...</td>\n",
       "      <td>...</td>\n",
       "      <td>...</td>\n",
       "      <td>...</td>\n",
       "      <td>...</td>\n",
       "      <td>...</td>\n",
       "      <td>...</td>\n",
       "      <td>...</td>\n",
       "      <td>...</td>\n",
       "      <td>...</td>\n",
       "    </tr>\n",
       "    <tr>\n",
       "      <th>9830</th>\n",
       "      <td>sausage</td>\n",
       "      <td>chicken</td>\n",
       "      <td>beef</td>\n",
       "      <td>hamburger meat</td>\n",
       "      <td>citrus fruit</td>\n",
       "      <td>grapes</td>\n",
       "      <td>root vegetables</td>\n",
       "      <td>whole milk</td>\n",
       "      <td>butter</td>\n",
       "      <td>whipped/sour cream</td>\n",
       "      <td>...</td>\n",
       "      <td>NaN</td>\n",
       "      <td>NaN</td>\n",
       "      <td>NaN</td>\n",
       "      <td>NaN</td>\n",
       "      <td>NaN</td>\n",
       "      <td>NaN</td>\n",
       "      <td>NaN</td>\n",
       "      <td>NaN</td>\n",
       "      <td>NaN</td>\n",
       "      <td>NaN</td>\n",
       "    </tr>\n",
       "    <tr>\n",
       "      <th>9831</th>\n",
       "      <td>cooking chocolate</td>\n",
       "      <td>NaN</td>\n",
       "      <td>NaN</td>\n",
       "      <td>NaN</td>\n",
       "      <td>NaN</td>\n",
       "      <td>NaN</td>\n",
       "      <td>NaN</td>\n",
       "      <td>NaN</td>\n",
       "      <td>NaN</td>\n",
       "      <td>NaN</td>\n",
       "      <td>...</td>\n",
       "      <td>NaN</td>\n",
       "      <td>NaN</td>\n",
       "      <td>NaN</td>\n",
       "      <td>NaN</td>\n",
       "      <td>NaN</td>\n",
       "      <td>NaN</td>\n",
       "      <td>NaN</td>\n",
       "      <td>NaN</td>\n",
       "      <td>NaN</td>\n",
       "      <td>NaN</td>\n",
       "    </tr>\n",
       "    <tr>\n",
       "      <th>9832</th>\n",
       "      <td>chicken</td>\n",
       "      <td>citrus fruit</td>\n",
       "      <td>other vegetables</td>\n",
       "      <td>butter</td>\n",
       "      <td>yogurt</td>\n",
       "      <td>frozen dessert</td>\n",
       "      <td>domestic eggs</td>\n",
       "      <td>rolls/buns</td>\n",
       "      <td>rum</td>\n",
       "      <td>cling film/bags</td>\n",
       "      <td>...</td>\n",
       "      <td>NaN</td>\n",
       "      <td>NaN</td>\n",
       "      <td>NaN</td>\n",
       "      <td>NaN</td>\n",
       "      <td>NaN</td>\n",
       "      <td>NaN</td>\n",
       "      <td>NaN</td>\n",
       "      <td>NaN</td>\n",
       "      <td>NaN</td>\n",
       "      <td>NaN</td>\n",
       "    </tr>\n",
       "    <tr>\n",
       "      <th>9833</th>\n",
       "      <td>semi-finished bread</td>\n",
       "      <td>bottled water</td>\n",
       "      <td>soda</td>\n",
       "      <td>bottled beer</td>\n",
       "      <td>NaN</td>\n",
       "      <td>NaN</td>\n",
       "      <td>NaN</td>\n",
       "      <td>NaN</td>\n",
       "      <td>NaN</td>\n",
       "      <td>NaN</td>\n",
       "      <td>...</td>\n",
       "      <td>NaN</td>\n",
       "      <td>NaN</td>\n",
       "      <td>NaN</td>\n",
       "      <td>NaN</td>\n",
       "      <td>NaN</td>\n",
       "      <td>NaN</td>\n",
       "      <td>NaN</td>\n",
       "      <td>NaN</td>\n",
       "      <td>NaN</td>\n",
       "      <td>NaN</td>\n",
       "    </tr>\n",
       "    <tr>\n",
       "      <th>9834</th>\n",
       "      <td>chicken</td>\n",
       "      <td>tropical fruit</td>\n",
       "      <td>other vegetables</td>\n",
       "      <td>vinegar</td>\n",
       "      <td>shopping bags</td>\n",
       "      <td>NaN</td>\n",
       "      <td>NaN</td>\n",
       "      <td>NaN</td>\n",
       "      <td>NaN</td>\n",
       "      <td>NaN</td>\n",
       "      <td>...</td>\n",
       "      <td>NaN</td>\n",
       "      <td>NaN</td>\n",
       "      <td>NaN</td>\n",
       "      <td>NaN</td>\n",
       "      <td>NaN</td>\n",
       "      <td>NaN</td>\n",
       "      <td>NaN</td>\n",
       "      <td>NaN</td>\n",
       "      <td>NaN</td>\n",
       "      <td>NaN</td>\n",
       "    </tr>\n",
       "  </tbody>\n",
       "</table>\n",
       "<p>9835 rows × 32 columns</p>\n",
       "</div>"
      ],
      "text/plain": [
       "                   Item 1               Item 2            Item 3  \\\n",
       "0            citrus fruit  semi-finished bread         margarine   \n",
       "1          tropical fruit               yogurt            coffee   \n",
       "2              whole milk                  NaN               NaN   \n",
       "3               pip fruit               yogurt      cream cheese   \n",
       "4        other vegetables           whole milk    condensed milk   \n",
       "...                   ...                  ...               ...   \n",
       "9830              sausage              chicken              beef   \n",
       "9831    cooking chocolate                  NaN               NaN   \n",
       "9832              chicken         citrus fruit  other vegetables   \n",
       "9833  semi-finished bread        bottled water              soda   \n",
       "9834              chicken       tropical fruit  other vegetables   \n",
       "\n",
       "                        Item 4         Item 5          Item 6  \\\n",
       "0                  ready soups            NaN             NaN   \n",
       "1                          NaN            NaN             NaN   \n",
       "2                          NaN            NaN             NaN   \n",
       "3                 meat spreads            NaN             NaN   \n",
       "4     long life bakery product            NaN             NaN   \n",
       "...                        ...            ...             ...   \n",
       "9830            hamburger meat   citrus fruit          grapes   \n",
       "9831                       NaN            NaN             NaN   \n",
       "9832                    butter         yogurt  frozen dessert   \n",
       "9833              bottled beer            NaN             NaN   \n",
       "9834                   vinegar  shopping bags             NaN   \n",
       "\n",
       "               Item 7      Item 8  Item 9             Item 10  ... Item 23  \\\n",
       "0                 NaN         NaN     NaN                 NaN  ...     NaN   \n",
       "1                 NaN         NaN     NaN                 NaN  ...     NaN   \n",
       "2                 NaN         NaN     NaN                 NaN  ...     NaN   \n",
       "3                 NaN         NaN     NaN                 NaN  ...     NaN   \n",
       "4                 NaN         NaN     NaN                 NaN  ...     NaN   \n",
       "...               ...         ...     ...                 ...  ...     ...   \n",
       "9830  root vegetables  whole milk  butter  whipped/sour cream  ...     NaN   \n",
       "9831              NaN         NaN     NaN                 NaN  ...     NaN   \n",
       "9832    domestic eggs  rolls/buns     rum     cling film/bags  ...     NaN   \n",
       "9833              NaN         NaN     NaN                 NaN  ...     NaN   \n",
       "9834              NaN         NaN     NaN                 NaN  ...     NaN   \n",
       "\n",
       "     Item 24 Item 25 Item 26 Item 27 Item 28 Item 29 Item 30 Item 31 Item 32  \n",
       "0        NaN     NaN     NaN     NaN     NaN     NaN     NaN     NaN     NaN  \n",
       "1        NaN     NaN     NaN     NaN     NaN     NaN     NaN     NaN     NaN  \n",
       "2        NaN     NaN     NaN     NaN     NaN     NaN     NaN     NaN     NaN  \n",
       "3        NaN     NaN     NaN     NaN     NaN     NaN     NaN     NaN     NaN  \n",
       "4        NaN     NaN     NaN     NaN     NaN     NaN     NaN     NaN     NaN  \n",
       "...      ...     ...     ...     ...     ...     ...     ...     ...     ...  \n",
       "9830     NaN     NaN     NaN     NaN     NaN     NaN     NaN     NaN     NaN  \n",
       "9831     NaN     NaN     NaN     NaN     NaN     NaN     NaN     NaN     NaN  \n",
       "9832     NaN     NaN     NaN     NaN     NaN     NaN     NaN     NaN     NaN  \n",
       "9833     NaN     NaN     NaN     NaN     NaN     NaN     NaN     NaN     NaN  \n",
       "9834     NaN     NaN     NaN     NaN     NaN     NaN     NaN     NaN     NaN  \n",
       "\n",
       "[9835 rows x 32 columns]"
      ]
     },
     "execution_count": 39,
     "metadata": {},
     "output_type": "execute_result"
    }
   ],
   "source": [
    "groceries = groceries.drop(['Item(s)'], axis = 1)\n",
    "groceries"
   ]
  },
  {
   "cell_type": "code",
   "execution_count": 33,
   "id": "6605a1ff",
   "metadata": {},
   "outputs": [
    {
     "data": {
      "text/plain": [
       "[[4, 'citrus fruit', 'semi-finished bread', 'margarine', 'ready soups'],\n",
       " [3, 'tropical fruit', 'yogurt', 'coffee'],\n",
       " [1, 'whole milk'],\n",
       " [4, 'pip fruit', 'yogurt', 'cream cheese', 'meat spreads'],\n",
       " [4,\n",
       "  'other vegetables',\n",
       "  'whole milk',\n",
       "  'condensed milk',\n",
       "  'long life bakery product']]"
      ]
     },
     "execution_count": 33,
     "metadata": {},
     "output_type": "execute_result"
    }
   ],
   "source": [
    "f = lambda record: [x for x in record if x is not np.nan] \n",
    "transactions = list(map(f, groceries.values))\n",
    "transactions[:5]"
   ]
  },
  {
   "cell_type": "code",
   "execution_count": 34,
   "id": "e1136d89",
   "metadata": {},
   "outputs": [
    {
     "data": {
      "text/plain": [
       "{1: {('whole milk',): 2513}}"
      ]
     },
     "execution_count": 34,
     "metadata": {},
     "output_type": "execute_result"
    }
   ],
   "source": [
    "itemsets, rules = apriori(transactions, min_support = 0.25, min_confidence = 0.25)\n",
    "itemsets"
   ]
  },
  {
   "cell_type": "code",
   "execution_count": 35,
   "id": "ae4d236d",
   "metadata": {},
   "outputs": [
    {
     "data": {
      "text/plain": [
       "[]"
      ]
     },
     "execution_count": 35,
     "metadata": {},
     "output_type": "execute_result"
    }
   ],
   "source": [
    "rules"
   ]
  },
  {
   "cell_type": "code",
   "execution_count": 36,
   "id": "17764503",
   "metadata": {},
   "outputs": [
    {
     "ename": "TypeError",
     "evalue": "'<' not supported between instances of 'str' and 'int'",
     "output_type": "error",
     "traceback": [
      "\u001b[1;31m---------------------------------------------------------------------------\u001b[0m",
      "\u001b[1;31mTypeError\u001b[0m                                 Traceback (most recent call last)",
      "Cell \u001b[1;32mIn[36], line 1\u001b[0m\n\u001b[1;32m----> 1\u001b[0m itemsets, rules \u001b[38;5;241m=\u001b[39m \u001b[43mapriori\u001b[49m\u001b[43m(\u001b[49m\u001b[43mtransactions\u001b[49m\u001b[43m,\u001b[49m\u001b[43m \u001b[49m\u001b[43mmin_support\u001b[49m\u001b[43m \u001b[49m\u001b[38;5;241;43m=\u001b[39;49m\u001b[43m \u001b[49m\u001b[38;5;241;43m0.05\u001b[39;49m\u001b[43m,\u001b[49m\u001b[43m \u001b[49m\u001b[43mmin_confidence\u001b[49m\u001b[43m \u001b[49m\u001b[38;5;241;43m=\u001b[39;49m\u001b[43m \u001b[49m\u001b[38;5;241;43m0.25\u001b[39;49m\u001b[43m)\u001b[49m\n",
      "File \u001b[1;32mc:\\Users\\Prashant  Mishra\\AppData\\Local\\Programs\\Python\\Python311\\Lib\\site-packages\\efficient_apriori\\apriori.py:58\u001b[0m, in \u001b[0;36mapriori\u001b[1;34m(transactions, min_support, min_confidence, max_length, verbosity, output_transaction_ids)\u001b[0m\n\u001b[0;32m     12\u001b[0m \u001b[38;5;28;01mdef\u001b[39;00m \u001b[38;5;21mapriori\u001b[39m(\n\u001b[0;32m     13\u001b[0m     transactions: typing\u001b[38;5;241m.\u001b[39mIterable[typing\u001b[38;5;241m.\u001b[39mUnion[\u001b[38;5;28mset\u001b[39m, \u001b[38;5;28mtuple\u001b[39m, \u001b[38;5;28mlist\u001b[39m]],\n\u001b[0;32m     14\u001b[0m     min_support: \u001b[38;5;28mfloat\u001b[39m \u001b[38;5;241m=\u001b[39m \u001b[38;5;241m0.5\u001b[39m,\n\u001b[1;32m   (...)\u001b[0m\n\u001b[0;32m     18\u001b[0m     output_transaction_ids: \u001b[38;5;28mbool\u001b[39m \u001b[38;5;241m=\u001b[39m \u001b[38;5;28;01mFalse\u001b[39;00m,\n\u001b[0;32m     19\u001b[0m ):\n\u001b[0;32m     20\u001b[0m \u001b[38;5;250m    \u001b[39m\u001b[38;5;124;03m\"\"\"\u001b[39;00m\n\u001b[0;32m     21\u001b[0m \u001b[38;5;124;03m    The classic apriori algorithm as described in 1994 by Agrawal et al.\u001b[39;00m\n\u001b[0;32m     22\u001b[0m \n\u001b[1;32m   (...)\u001b[0m\n\u001b[0;32m     55\u001b[0m \u001b[38;5;124;03m    [{a} -> {b}]\u001b[39;00m\n\u001b[0;32m     56\u001b[0m \u001b[38;5;124;03m    \"\"\"\u001b[39;00m\n\u001b[1;32m---> 58\u001b[0m     itemsets, num_trans \u001b[38;5;241m=\u001b[39m \u001b[43mitemsets_from_transactions\u001b[49m\u001b[43m(\u001b[49m\n\u001b[0;32m     59\u001b[0m \u001b[43m        \u001b[49m\u001b[43mtransactions\u001b[49m\u001b[43m,\u001b[49m\n\u001b[0;32m     60\u001b[0m \u001b[43m        \u001b[49m\u001b[43mmin_support\u001b[49m\u001b[43m,\u001b[49m\n\u001b[0;32m     61\u001b[0m \u001b[43m        \u001b[49m\u001b[43mmax_length\u001b[49m\u001b[43m,\u001b[49m\n\u001b[0;32m     62\u001b[0m \u001b[43m        \u001b[49m\u001b[43mverbosity\u001b[49m\u001b[43m,\u001b[49m\n\u001b[0;32m     63\u001b[0m \u001b[43m        \u001b[49m\u001b[43moutput_transaction_ids\u001b[49m\u001b[38;5;241;43m=\u001b[39;49m\u001b[38;5;28;43;01mTrue\u001b[39;49;00m\u001b[43m,\u001b[49m\n\u001b[0;32m     64\u001b[0m \u001b[43m    \u001b[49m\u001b[43m)\u001b[49m\n\u001b[0;32m     66\u001b[0m     itemsets_raw \u001b[38;5;241m=\u001b[39m {\n\u001b[0;32m     67\u001b[0m         length: {item: counter\u001b[38;5;241m.\u001b[39mitemset_count \u001b[38;5;28;01mfor\u001b[39;00m (item, counter) \u001b[38;5;129;01min\u001b[39;00m itemsets\u001b[38;5;241m.\u001b[39mitems()}\n\u001b[0;32m     68\u001b[0m         \u001b[38;5;28;01mfor\u001b[39;00m (length, itemsets) \u001b[38;5;129;01min\u001b[39;00m itemsets\u001b[38;5;241m.\u001b[39mitems()\n\u001b[0;32m     69\u001b[0m     }\n\u001b[0;32m     70\u001b[0m     rules \u001b[38;5;241m=\u001b[39m generate_rules_apriori(itemsets_raw, min_confidence, num_trans, verbosity)\n",
      "File \u001b[1;32mc:\\Users\\Prashant  Mishra\\AppData\\Local\\Programs\\Python\\Python311\\Lib\\site-packages\\efficient_apriori\\itemsets.py:311\u001b[0m, in \u001b[0;36mitemsets_from_transactions\u001b[1;34m(transactions, min_support, max_length, verbosity, output_transaction_ids)\u001b[0m\n\u001b[0;32m    305\u001b[0m     \u001b[38;5;28mprint\u001b[39m(\u001b[38;5;124m\"\u001b[39m\u001b[38;5;124m Counting itemsets of length \u001b[39m\u001b[38;5;132;01m{}\u001b[39;00m\u001b[38;5;124m.\u001b[39m\u001b[38;5;124m\"\u001b[39m\u001b[38;5;241m.\u001b[39mformat(k))\n\u001b[0;32m    307\u001b[0m \u001b[38;5;66;03m# STEP 2a) - Build up candidate of larger itemsets\u001b[39;00m\n\u001b[0;32m    308\u001b[0m \n\u001b[0;32m    309\u001b[0m \u001b[38;5;66;03m# Retrieve the itemsets of the previous size, i.e. of size k - 1\u001b[39;00m\n\u001b[0;32m    310\u001b[0m \u001b[38;5;66;03m# They must be sorted to maintain the invariant when joining/pruning\u001b[39;00m\n\u001b[1;32m--> 311\u001b[0m itemsets_list \u001b[38;5;241m=\u001b[39m \u001b[38;5;28msorted\u001b[39m(item \u001b[38;5;28;01mfor\u001b[39;00m item \u001b[38;5;129;01min\u001b[39;00m large_itemsets[k \u001b[38;5;241m-\u001b[39m \u001b[38;5;241m1\u001b[39m]\u001b[38;5;241m.\u001b[39mkeys())\n\u001b[0;32m    313\u001b[0m \u001b[38;5;66;03m# Gen candidates of length k + 1 by joining, prune, and copy as set\u001b[39;00m\n\u001b[0;32m    314\u001b[0m \u001b[38;5;66;03m# This algorithm assumes that the list of itemsets are sorted,\u001b[39;00m\n\u001b[0;32m    315\u001b[0m \u001b[38;5;66;03m# and that the itemsets themselves are sorted tuples\u001b[39;00m\n\u001b[0;32m    316\u001b[0m C_k: typing\u001b[38;5;241m.\u001b[39mList[\u001b[38;5;28mtuple\u001b[39m] \u001b[38;5;241m=\u001b[39m \u001b[38;5;28mlist\u001b[39m(apriori_gen(itemsets_list))\n",
      "\u001b[1;31mTypeError\u001b[0m: '<' not supported between instances of 'str' and 'int'"
     ]
    }
   ],
   "source": [
    "itemsets, rules = apriori(transactions, min_support = 0.05, min_confidence = 0.25)"
   ]
  },
  {
   "cell_type": "code",
   "execution_count": 44,
   "id": "50d4636a",
   "metadata": {},
   "outputs": [
    {
     "data": {
      "text/plain": [
       "{1: {('citrus fruit',): 814,\n",
       "  ('margarine',): 576,\n",
       "  ('tropical fruit',): 1032,\n",
       "  ('yogurt',): 1372,\n",
       "  ('coffee',): 571,\n",
       "  ('whole milk',): 2513,\n",
       "  ('pip fruit',): 744,\n",
       "  ('other vegetables',): 1903,\n",
       "  ('butter',): 545,\n",
       "  ('rolls/buns',): 1809,\n",
       "  ('bottled beer',): 792,\n",
       "  ('bottled water',): 1087,\n",
       "  ('curd',): 524,\n",
       "  ('beef',): 516,\n",
       "  ('frankfurter',): 580,\n",
       "  ('soda',): 1715,\n",
       "  ('fruit/vegetable juice',): 711,\n",
       "  ('newspapers',): 785,\n",
       "  ('pastry',): 875,\n",
       "  ('root vegetables',): 1072,\n",
       "  ('canned beer',): 764,\n",
       "  ('sausage',): 924,\n",
       "  ('brown bread',): 638,\n",
       "  ('shopping bags',): 969,\n",
       "  ('napkins',): 515,\n",
       "  ('pork',): 567,\n",
       "  ('whipped/sour cream',): 705,\n",
       "  ('domestic eggs',): 624},\n",
       " 2: {('other vegetables', 'whole milk'): 736,\n",
       "  ('rolls/buns', 'whole milk'): 557,\n",
       "  ('whole milk', 'yogurt'): 551}}"
      ]
     },
     "execution_count": 44,
     "metadata": {},
     "output_type": "execute_result"
    }
   ],
   "source": [
    "itemsets"
   ]
  },
  {
   "cell_type": "code",
   "execution_count": 37,
   "id": "4078e961",
   "metadata": {},
   "outputs": [
    {
     "data": {
      "text/plain": [
       "[]"
      ]
     },
     "execution_count": 37,
     "metadata": {},
     "output_type": "execute_result"
    }
   ],
   "source": [
    "rules"
   ]
  },
  {
   "cell_type": "code",
   "execution_count": 38,
   "id": "3c5d920e",
   "metadata": {},
   "outputs": [],
   "source": [
    "frequent_itemsets = []\n",
    "for size, itemsets in itemsets.items():\n",
    "    for items, support in itemsets.items():\n",
    "        frequent_itemsets.append((items, support))"
   ]
  },
  {
   "cell_type": "code",
   "execution_count": 47,
   "id": "1b36f394",
   "metadata": {},
   "outputs": [
    {
     "data": {
      "text/plain": [
       "[(('citrus fruit',), 814),\n",
       " (('margarine',), 576),\n",
       " (('tropical fruit',), 1032),\n",
       " (('yogurt',), 1372),\n",
       " (('coffee',), 571),\n",
       " (('whole milk',), 2513),\n",
       " (('pip fruit',), 744),\n",
       " (('other vegetables',), 1903),\n",
       " (('butter',), 545),\n",
       " (('rolls/buns',), 1809),\n",
       " (('bottled beer',), 792),\n",
       " (('bottled water',), 1087),\n",
       " (('curd',), 524),\n",
       " (('beef',), 516),\n",
       " (('frankfurter',), 580),\n",
       " (('soda',), 1715),\n",
       " (('fruit/vegetable juice',), 711),\n",
       " (('newspapers',), 785),\n",
       " (('pastry',), 875),\n",
       " (('root vegetables',), 1072),\n",
       " (('canned beer',), 764),\n",
       " (('sausage',), 924),\n",
       " (('brown bread',), 638),\n",
       " (('shopping bags',), 969),\n",
       " (('napkins',), 515),\n",
       " (('pork',), 567),\n",
       " (('whipped/sour cream',), 705),\n",
       " (('domestic eggs',), 624),\n",
       " (('other vegetables', 'whole milk'), 736),\n",
       " (('rolls/buns', 'whole milk'), 557),\n",
       " (('whole milk', 'yogurt'), 551)]"
      ]
     },
     "execution_count": 47,
     "metadata": {},
     "output_type": "execute_result"
    }
   ],
   "source": [
    "frequent_itemsets"
   ]
  },
  {
   "cell_type": "code",
   "execution_count": 39,
   "id": "4646d6de",
   "metadata": {},
   "outputs": [],
   "source": [
    "sorted_itemsets = sorted(frequent_itemsets, key = lambda x: x[1], reverse = True)"
   ]
  },
  {
   "cell_type": "code",
   "execution_count": 40,
   "id": "025a98f6",
   "metadata": {},
   "outputs": [
    {
     "name": "stdout",
     "output_type": "stream",
     "text": [
      "Items: whole milk - support: 2513\n"
     ]
    }
   ],
   "source": [
    "for items, support in sorted_itemsets:\n",
    "    print(f\"Items: {', '.join(items)} - support: {support}\")"
   ]
  },
  {
   "cell_type": "code",
   "execution_count": 41,
   "id": "cf2979eb",
   "metadata": {},
   "outputs": [
    {
     "data": {
      "text/plain": [
       "[(('whole milk',), 2513)]"
      ]
     },
     "execution_count": 41,
     "metadata": {},
     "output_type": "execute_result"
    }
   ],
   "source": [
    "top_5_sorted_itemsets = sorted_itemsets[:5]\n",
    "top_5_sorted_itemsets"
   ]
  },
  {
   "cell_type": "code",
   "execution_count": 42,
   "id": "83920771",
   "metadata": {},
   "outputs": [],
   "source": [
    "import matplotlib.pyplot as plt"
   ]
  },
  {
   "cell_type": "code",
   "execution_count": 43,
   "id": "e82df0ef",
   "metadata": {},
   "outputs": [],
   "source": [
    "item_names = [', '.join(items) for items, _ in top_5_sorted_itemsets]\n",
    "support_values = [support for _, support in top_5_sorted_itemsets]"
   ]
  },
  {
   "cell_type": "code",
   "execution_count": 44,
   "id": "403d7b9d",
   "metadata": {},
   "outputs": [
    {
     "data": {
      "image/png": "[encoded data removed]",
      "text/plain": [
       "<Figure size 1000x600 with 1 Axes>"
      ]
     },
     "metadata": {},
     "output_type": "display_data"
    }
   ],
   "source": [
    "plt.figure(figsize=(10,6))\n",
    "plt.bar(item_names, support_values, color = 'skyblue')\n",
    "plt.xlabel('Itemsets')\n",
    "plt.ylabel('Support')\n",
    "plt.title('Top 5 Sorted Frequent Itemsets')\n",
    "plt.xticks(rotation = 45, ha = 'right')\n",
    "plt.show()"
   ]
  },
  {
   "cell_type": "code",
   "execution_count": null,
   "id": "92682505",
   "metadata": {},
   "outputs": [],
   "source": []
  }
 ],
 "metadata": {
  "colab": {
   "provenance": []
  },
  "kernelspec": {
   "display_name": "Python 3 (ipykernel)",
   "language": "python",
   "name": "python3"
  },
  "language_info": {
   "codemirror_mode": {
    "name": "ipython",
    "version": 3
   },
   "file_extension": ".py",
   "mimetype": "text/x-python",
   "name": "python",
   "nbconvert_exporter": "python",
   "pygments_lexer": "ipython3",
   "version": "3.11.3"
  }
 },
 "nbformat": 4,
 "nbformat_minor": 5
}
